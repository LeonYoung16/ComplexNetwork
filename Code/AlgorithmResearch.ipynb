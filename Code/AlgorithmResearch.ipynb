{
 "cells": [
  {
   "cell_type": "code",
   "execution_count": 1,
   "metadata": {},
   "outputs": [],
   "source": [
    "import numpy as np\n",
    "import sys\n",
    "import random\n",
    "import matplotlib.pyplot as plt\n",
    "import os\n",
    "import networkx as nx\n",
    "import NetworkAlgorithm as na\n",
    "\n",
    "karatepath = \"./Data/karate/karate.gml\"\n",
    "internetpath = \"./Data/Internet/Internet.gml\"\n",
    "dolphins = \"./Data/dolphins/dolphins.gml\""
   ]
  },
  {
   "cell_type": "code",
   "execution_count": 2,
   "metadata": {},
   "outputs": [],
   "source": [
    "karateG = nx.read_gml(karatepath, label=None)\n",
    "na.G_add_edgeweight(karateG)\n",
    "na.G_add_nodeweight(karateG)"
   ]
  },
  {
   "cell_type": "code",
   "execution_count": 3,
   "metadata": {},
   "outputs": [],
   "source": [
    "# degree entropy\n",
    "degree = karateG.degree\n",
    "degree = [i[1] for i in degree]\n",
    "# print(degree)\n",
    "degree_entropy = na.entropy(degree, isNormalization=False)\n",
    "degree_info = 1-degree_entropy"
   ]
  },
  {
   "cell_type": "code",
   "execution_count": 4,
   "metadata": {},
   "outputs": [
    {
     "name": "stdout",
     "output_type": "stream",
     "text": [
      "0.8825009582231874\n"
     ]
    }
   ],
   "source": [
    "# node entropy\n",
    "node_w = karateG.nodes.data('nodeweight')\n",
    "node_w = [i[1] for i in node_w]\n",
    "node_w_entropy = na.entropy(node_w, isNormalization=False)\n",
    "node_w_info = 1- node_w_entropy\n",
    "print(node_w_entropy)"
   ]
  },
  {
   "cell_type": "code",
   "execution_count": 5,
   "metadata": {},
   "outputs": [],
   "source": [
    "# coreness entropy\n",
    "core = nx.algorithms.core.core_number(karateG)\n",
    "core = [core[i] for i in core]\n",
    "core_dist = []\n",
    "for i in range(max(core)):\n",
    "    core_dist.append(core.count(i+1)/len(core))\n",
    "core_entropy = na.entropy(core_dist, isNormalization=True)\n",
    "core_info = 1-core_entropy"
   ]
  },
  {
   "cell_type": "code",
   "execution_count": 6,
   "metadata": {},
   "outputs": [
    {
     "name": "stdout",
     "output_type": "stream",
     "text": [
      "0.22827090364970146\n",
      "0.35623921865211366\n",
      "0.4154898776981849\n"
     ]
    }
   ],
   "source": [
    "info = [degree_info, node_w_info, core_info]\n",
    "w_degree = degree_info / sum(info)\n",
    "w_nodeweight = node_w_info / sum(info)\n",
    "w_core = core_info / sum(info)\n",
    "print(w_degree)\n",
    "print(w_nodeweight)\n",
    "print(w_core)"
   ]
  },
  {
   "cell_type": "code",
   "execution_count": 21,
   "metadata": {},
   "outputs": [
    {
     "name": "stdout",
     "output_type": "stream",
     "text": [
      "[[34, 137.0526166857623], [1, 126.07791856350312], [33, 80.75416919985794], [3, 65.57331810972974], [2, 53.173663112862094], [32, 35.300859550230264], [9, 33.142898273516984], [4, 33.07418061756064], [14, 32.78665905486487], [24, 25.85499077200409], [31, 23.59315702586625], [8, 22.880678588562024], [30, 20.68399261760327], [28, 20.327753398951156], [20, 19.787865087027814], [6, 16.765361212430022], [7, 16.765361212430022], [29, 16.581712119158794], [5, 13.019319932637659], [11, 13.019319932637659], [15, 12.627925900517338], [16, 12.627925900517338], [19, 12.627925900517338], [21, 12.627925900517338], [23, 12.627925900517338], [10, 11.91544746321311], [18, 11.202969025908883], [22, 11.202969025908883], [13, 10.134251369952542], [26, 9.813166964768635], [27, 9.778012151300429], [25, 9.456927746116522], [12, 6.38821009016018], [17, 5.146902308822952]]\n"
     ]
    }
   ],
   "source": [
    "mycore = []\n",
    "core = nx.algorithms.core.core_number(karateG)\n",
    "for node in karateG.nodes:\n",
    "    wks = w_degree*karateG.degree(node) + \\\n",
    "           w_nodeweight* karateG.nodes[node]['nodeweight'] + \\\n",
    "            w_core*core[node]*karateG.degree(node)/4\n",
    "    mycore.append([node, wks])\n",
    "mycore.sort(key = lambda x:x[:][1], reverse=True)\n",
    "print(mycore)"
   ]
  },
  {
   "cell_type": "code",
   "execution_count": null,
   "metadata": {},
   "outputs": [],
   "source": []
  }
 ],
 "metadata": {
  "kernelspec": {
   "display_name": "Python 3",
   "language": "python",
   "name": "python3"
  },
  "language_info": {
   "codemirror_mode": {
    "name": "ipython",
    "version": 3
   },
   "file_extension": ".py",
   "mimetype": "text/x-python",
   "name": "python",
   "nbconvert_exporter": "python",
   "pygments_lexer": "ipython3",
   "version": "3.6.5"
  }
 },
 "nbformat": 4,
 "nbformat_minor": 2
}
