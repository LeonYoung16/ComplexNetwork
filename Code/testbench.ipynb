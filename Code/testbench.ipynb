{
 "cells": [
  {
   "cell_type": "code",
   "execution_count": 1,
   "metadata": {},
   "outputs": [],
   "source": [
    "import numpy as np\n",
    "import sys\n",
    "import random\n",
    "import matplotlib.pyplot as plt\n",
    "import os\n",
    "import networkx as nx\n",
    "import NetworkAlgorithm as na"
   ]
  },
  {
   "cell_type": "code",
   "execution_count": 2,
   "metadata": {},
   "outputs": [],
   "source": [
    "karatepath = \"./Data/karate/karate.gml\"\n",
    "internetpath = \"./Data/Internet/Internet.gml\"\n",
    "dolphins = \"./Data/dolphins/dolphins.gml\""
   ]
  },
  {
   "cell_type": "code",
   "execution_count": 3,
   "metadata": {},
   "outputs": [],
   "source": [
    "karateG = nx.read_gml(karatepath, label=None)\n",
    "na.G_add_edgeweight(karateG)\n",
    "na.G_add_nodeweight(karateG)"
   ]
  },
  {
   "cell_type": "code",
   "execution_count": 4,
   "metadata": {},
   "outputs": [
    {
     "name": "stdout",
     "output_type": "stream",
     "text": [
      "4\n",
      "[[1, 4], [2, 4], [3, 4], [4, 4], [8, 4], [9, 4], [14, 4], [31, 4], [33, 4], [34, 4], [5, 3], [6, 3], [7, 3], [11, 3], [20, 3], [24, 3], [25, 3], [26, 3], [28, 3], [29, 3], [30, 3], [32, 3], [10, 2], [13, 2], [15, 2], [16, 2], [17, 2], [18, 2], [19, 2], [21, 2], [22, 2], [23, 2], [27, 2], [12, 1]]\n",
      "[5, 6, 7, 11, 20, 24, 25, 26, 28, 29, 30, 32]\n"
     ]
    }
   ],
   "source": [
    "core = nx.algorithms.core.core_number(karateG)\n",
    "print(max(core.values()))\n",
    "core = [[i,core[i]] for i in core]\n",
    "# core= sorted(core.items(),key=lambda x:x[1])\n",
    "# print(\"core:\", core)\n",
    "core.sort(key=lambda x:x[1],reverse=True)\n",
    "print(core)\n",
    "kshell_karate = nx.algorithms.core.k_shell(karateG, k=3)\n",
    "print(sorted(kshell_karate.nodes))"
   ]
  },
  {
   "cell_type": "code",
   "execution_count": 5,
   "metadata": {},
   "outputs": [
    {
     "name": "stdout",
     "output_type": "stream",
     "text": [
      "[10, 13, 15, 16, 17, 18, 19, 21, 22, 23, 27]\n",
      "[5, 6, 7, 11, 20, 24, 25, 26, 28, 29, 30, 32]\n",
      "4\n"
     ]
    }
   ],
   "source": [
    "import NetworkAlgorithm as na\n",
    "k_shell_karate = na.k_shell(karateG)\n",
    "core1_node = na.return_core_node(k_shell_karate, core=2)\n",
    "ordernode, maxorder = na.return_order_node(k_shell_karate, order=2)\n",
    "print(core1_node)\n",
    "print(sorted(ordernode))\n",
    "print(maxorder)"
   ]
  },
  {
   "cell_type": "code",
   "execution_count": 6,
   "metadata": {},
   "outputs": [
    {
     "name": "stdout",
     "output_type": "stream",
     "text": [
      "[[12, 0.030303030303030304], [10, 0.06060606060606061], [13, 0.06060606060606061], [15, 0.06060606060606061], [16, 0.06060606060606061], [17, 0.06060606060606061], [18, 0.06060606060606061], [19, 0.06060606060606061], [21, 0.06060606060606061], [22, 0.06060606060606061], [23, 0.06060606060606061], [27, 0.06060606060606061], [5, 0.09090909090909091], [11, 0.09090909090909091], [20, 0.09090909090909091], [25, 0.09090909090909091], [26, 0.09090909090909091], [29, 0.09090909090909091], [6, 0.12121212121212122], [7, 0.12121212121212122], [8, 0.12121212121212122], [28, 0.12121212121212122], [30, 0.12121212121212122], [31, 0.12121212121212122], [9, 0.15151515151515152], [14, 0.15151515151515152], [24, 0.15151515151515152], [4, 0.18181818181818182], [32, 0.18181818181818182], [2, 0.2727272727272727], [3, 0.30303030303030304], [33, 0.36363636363636365], [1, 0.48484848484848486], [34, 0.5151515151515151]]\n"
     ]
    }
   ],
   "source": [
    "dc = nx.algorithms.centrality.degree_centrality(karateG)\n",
    "dc = [[i,dc[i]] for i in dc]\n",
    "dc.sort(key=lambda x:x[1],reverse=False)\n",
    "print(dc)"
   ]
  },
  {
   "cell_type": "code",
   "execution_count": 7,
   "metadata": {},
   "outputs": [],
   "source": [
    "dc = na.DC_core(karateG)\n",
    "# print(dc)\n",
    "ordernode, maxorder = na.return_order_node(dc, order=1)\n",
    "# print(sorted(ordernode))\n",
    "# print(maxorder)"
   ]
  },
  {
   "cell_type": "code",
   "execution_count": 8,
   "metadata": {},
   "outputs": [
    {
     "name": "stdout",
     "output_type": "stream",
     "text": [
      "[[17, 5.0], [12, 5.800000000000001], [25, 8.700000000000001], [27, 8.9], [26, 9.0], [13, 9.200000000000001], [18, 10.100000000000001], [22, 10.100000000000001], [10, 10.700000000000001], [15, 11.300000000000002], [16, 11.300000000000002], [19, 11.300000000000002], [21, 11.300000000000002], [23, 11.300000000000002], [5, 11.700000000000001], [11, 11.700000000000001], [29, 14.700000000000001], [6, 15.100000000000001], [7, 15.100000000000001], [20, 17.400000000000002], [28, 18.1], [30, 18.400000000000002], [8, 19.900000000000002], [31, 20.500000000000004], [24, 23.000000000000004], [14, 28.400000000000002], [9, 28.700000000000003], [4, 28.800000000000004], [32, 31.200000000000003], [2, 46.2], [3, 56.800000000000004], [33, 69.9], [1, 108.70000000000002], [34, 118.10000000000002]]\n"
     ]
    }
   ],
   "source": [
    "wks = na.WKS_core(karateG, 0.7)\n",
    "print(wks)"
   ]
  },
  {
   "cell_type": "code",
   "execution_count": 17,
   "metadata": {},
   "outputs": [
    {
     "name": "stdout",
     "output_type": "stream",
     "text": [
      "<class 'networkx.classes.reportviews.NodeView'>\n",
      "[(34, {'nodeweight': 354, 'k_shell': 6.800000000000001})]\n",
      "[(1, 6.4), (2, 4.800000000000001), (3, 5.2), (4, 4.8), (5, 3.0), (6, 2.8), (7, 2.8), (8, 4.0), (9, 4.4), (10, 2.0), (11, 3.0), (12, 1), (13, 2.0), (14, 4.4), (15, 2.0), (16, 2.0), (17, 2.0), (18, 2.0), (19, 2.0), (20, 3.0), (21, 2.0), (22, 2.0), (23, 2.0), (24, 3.2), (25, 3.0), (26, 3.0), (27, 2.0), (28, 3.4), (29, 3.0), (30, 3.4), (31, 4.0), (32, 4.2), (33, 5.4), (34, 6.800000000000001)]\n",
      "[6.4, 4.800000000000001, 5.2, 4.8, 3.0, 2.8, 2.8, 4.0, 4.4, 2.0, 3.0, 1, 2.0, 4.4, 2.0, 2.0, 2.0, 2.0, 2.0, 3.0, 2.0, 2.0, 2.0, 3.2, 3.0, 3.0, 2.0, 3.4, 3.0, 3.4, 4.0, 4.2, 5.4, 6.800000000000001]\n"
     ]
    }
   ],
   "source": [
    "import copy\n",
    "k_shell = na.k_shell(karateG)\n",
    "alpha = 0.4\n",
    "for i in karateG.nodes:\n",
    "    karateG.add_node(k_shell[i-1][0], k_shell = k_shell[i-1][1])\n",
    "print(type(karateG.nodes))\n",
    "tempG = copy.deepcopy(karateG)\n",
    "while len(tempG.nodes) > 1:\n",
    "    shellvalue = tempG.nodes.data('k_shell')\n",
    "    shellvalue = [i[1] for i in shellvalue]\n",
    "    minshell = min(shellvalue)\n",
    "    # remove minimal shell value node\n",
    "    tempnodes = copy.deepcopy(tempG.nodes)\n",
    "    for no in tempnodes:\n",
    "        if tempG.nodes[no]['k_shell'] == minshell:\n",
    "            tempG.remove_node(no)\n",
    "    # update shell value\n",
    "    for no in tempG.nodes:\n",
    "        rsdegree = tempG.degree[no]\n",
    "        exdegree = karateG.degree[no] - rsdegree\n",
    "        newshell = rsdegree+alpha*exdegree\n",
    "        tempG.nodes[no]['k_shell'] = newshell\n",
    "        karateG.nodes[no]['k_shell'] = newshell\n",
    "print(tempG.nodes.data())\n",
    "print(karateG.nodes.data('k_shell'))\n",
    "newshell = karateG.nodes.data('k_shell')\n",
    "newshell = [i[1] for i in newshell]\n",
    "print(newshell)"
   ]
  },
  {
   "cell_type": "code",
   "execution_count": 4,
   "metadata": {},
   "outputs": [
    {
     "name": "stdout",
     "output_type": "stream",
     "text": [
      "[[1, 6.4], [2, 4.800000000000001], [3, 5.2], [4, 4.8], [5, 3.0], [6, 2.8], [7, 2.8], [8, 4.0], [9, 4.4], [10, 2.0], [11, 3.0], [12, 1], [13, 2.0], [14, 4.4], [15, 2.0], [16, 2.0], [17, 2.0], [18, 2.0], [19, 2.0], [20, 3.0], [21, 2.0], [22, 2.0], [23, 2.0], [24, 3.2], [25, 3.0], [26, 3.0], [27, 2.0], [28, 3.4], [29, 3.0], [30, 3.4], [31, 4.0], [32, 4.2], [33, 5.4], [34, 6.800000000000001]]\n"
     ]
    }
   ],
   "source": [
    "MDD_core = na.MDD_core(karateG, 0.4)\n",
    "print(MDD_core)"
   ]
  },
  {
   "cell_type": "code",
   "execution_count": null,
   "metadata": {},
   "outputs": [],
   "source": []
  }
 ],
 "metadata": {
  "kernelspec": {
   "display_name": "Python 3",
   "language": "python",
   "name": "python3"
  },
  "language_info": {
   "codemirror_mode": {
    "name": "ipython",
    "version": 3
   },
   "file_extension": ".py",
   "mimetype": "text/x-python",
   "name": "python",
   "nbconvert_exporter": "python",
   "pygments_lexer": "ipython3",
   "version": "3.6.5"
  }
 },
 "nbformat": 4,
 "nbformat_minor": 2
}
